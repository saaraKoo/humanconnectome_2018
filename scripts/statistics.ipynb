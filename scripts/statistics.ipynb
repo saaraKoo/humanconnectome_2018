{
 "cells": [
  {
   "cell_type": "code",
   "execution_count": 42,
   "metadata": {},
   "outputs": [],
   "source": [
    "import os\n",
    "import matplotlib as mpl\n",
    "import matplotlib.pyplot as plt\n",
    "mpl.rcParams.update(mpl.rcParamsDefault)\n",
    "import numpy as np\n",
    "import networkx as nx\n",
    "import igraph as igp"
   ]
  },
  {
   "cell_type": "code",
   "execution_count": 150,
   "metadata": {},
   "outputs": [],
   "source": [
    "# Load the data\n",
    "path = '/Users/saara/anaconda/envs/testenv_notebooks/networks/graphs/'\n",
    "sub = os.listdir(path)"
   ]
  },
  {
   "cell_type": "code",
   "execution_count": 151,
   "metadata": {},
   "outputs": [],
   "source": [
    "# Generate networkx graphs from the adjacency matrices\n",
    "G = {}\n",
    "\n",
    "for i in range(0, len(sub)):\n",
    "    with open(path + sub[i]) as adj_csv:\n",
    "        adj = np.loadtxt(adj_csv, delimiter=',')\n",
    "        G[sub[i][:-11]] = nx.from_numpy_array(adj)"
   ]
  },
  {
   "cell_type": "code",
   "execution_count": 153,
   "metadata": {},
   "outputs": [],
   "source": [
    "# Path for plots\n",
    "path = '/Users/saara/anaconda/envs/testenv_notebooks/networks/figs/'"
   ]
  },
  {
   "cell_type": "code",
   "execution_count": null,
   "metadata": {},
   "outputs": [],
   "source": [
    "# Degree centrality\n",
    "degree_cent = [nx.degree_centrality(G[key]) for key in G]"
   ]
  },
  {
   "cell_type": "code",
   "execution_count": null,
   "metadata": {
    "scrolled": true
   },
   "outputs": [],
   "source": [
    "# Histogram of average degree centrality\n",
    "mean = [np.mean(list(degree_cent[i].values())) for i in range(0, len(degree_cent))]\n",
    "mean_axv = np.mean(mean)\n",
    "\n",
    "plt.hist(mean)\n",
    "plt.xlabel('Average degree centrality')\n",
    "plt.ylabel('Frequence')\n",
    "plt.title('Histogram of average degree centrality')\n",
    "plt.axvline(mean_axv, c=\"r\", ls=\"--\", label=\"Mean\")\n",
    "\n",
    "plt.grid(color='lightgrey', ls='dashed')\n",
    "plt.savefig(path + 'deg_cent_hist.pdf', format='pdf')\n",
    "plt.show()"
   ]
  },
  {
   "cell_type": "code",
   "execution_count": null,
   "metadata": {},
   "outputs": [],
   "source": [
    "# Betweenness centrality\n",
    "betw_cent = [nx.betweenness_centrality(G[key]) for key in G]"
   ]
  },
  {
   "cell_type": "code",
   "execution_count": null,
   "metadata": {},
   "outputs": [],
   "source": [
    "# Histogram of average betweenness centrality\n",
    "mean = [np.mean(list(betw_cent[i].values())) for i in range(0, len(betw_cent))]\n",
    "mean_axv = np.mean(mean)\n",
    "\n",
    "plt.hist(mean)\n",
    "plt.xlabel('Average betweenness centrality')\n",
    "plt.ylabel('Frequence')\n",
    "plt.title('Histogram of average betweenness centrality')\n",
    "plt.axvline(mean_axv, c=\"r\", ls=\"--\", label=\"Mean\")\n",
    "\n",
    "plt.grid(color='lightgrey', ls='dashed')\n",
    "plt.savefig(path + 'betw_cent_hist.pdf', format='pdf')\n",
    "plt.show()"
   ]
  },
  {
   "cell_type": "code",
   "execution_count": null,
   "metadata": {},
   "outputs": [],
   "source": [
    "# Largest connected components\n",
    "components = [max(nx.connected_component_subgraphs(G[key]), key=len) for key in G]"
   ]
  },
  {
   "cell_type": "code",
   "execution_count": null,
   "metadata": {},
   "outputs": [],
   "source": [
    "# Diameters of largest components\n",
    "diameters = [nx.diameter(i) for i in components]"
   ]
  },
  {
   "cell_type": "code",
   "execution_count": null,
   "metadata": {},
   "outputs": [],
   "source": [
    "# Histogram of average diameter of largest component\n",
    "mean = np.mean(diameters)\n",
    "\n",
    "plt.hist(diameters)\n",
    "plt.xlabel('Diameter')\n",
    "plt.ylabel('Frequence')\n",
    "plt.title('Histogram of diameters of largest components')\n",
    "plt.axvline(mean, c=\"r\", ls=\"--\", label=\"Mean\")\n",
    "\n",
    "plt.grid(color='lightgrey', ls='dashed')\n",
    "plt.savefig(path + 'diam_hist.pdf', format='pdf')\n",
    "plt.show()"
   ]
  },
  {
   "cell_type": "code",
   "execution_count": null,
   "metadata": {},
   "outputs": [],
   "source": [
    "def plot_degree_distribution(G, i):\n",
    "    degs = {}\n",
    "    for n in G.nodes():\n",
    "        deg = G.degree(n) \n",
    "        if deg not in degs:\n",
    "            degs[deg] = 0 \n",
    "        degs[deg] += 1\n",
    "    items = sorted(degs.items())\n",
    "\n",
    "    fig = plt.figure()\n",
    "    ax = fig.add_subplot(111)\n",
    "    ax.plot([k for (k,v) in items], [v for (k,v) in items]) \n",
    "    ax.set_xscale('log') \n",
    "    ax.set_yscale('log')\n",
    "    \n",
    "    plt.title('Degree Distribution')\n",
    "    plt.grid(color='lightgrey', ls='dashed')\n",
    "    plt.savefig(path + 'degree_dist_{}.png'.format(i), format='pdf')\n",
    "    plt.show()\n",
    "    \n",
    "    \n",
    "def calculate_degree_dist(G):\n",
    "    degs = {}\n",
    "    for n in G.nodes():\n",
    "        deg = G.degree(n) \n",
    "        if deg not in degs:\n",
    "            degs[deg] = 0 \n",
    "        degs[deg] += 1\n",
    "    items = sorted(degs.items())\n",
    "    return degs"
   ]
  },
  {
   "cell_type": "code",
   "execution_count": 158,
   "metadata": {},
   "outputs": [
    {
     "ename": "KeyError",
     "evalue": "'125525_Adj_40.csv'",
     "output_type": "error",
     "traceback": [
      "\u001b[0;31m---------------------------------------------------------------------------\u001b[0m",
      "\u001b[0;31mKeyError\u001b[0m                                  Traceback (most recent call last)",
      "\u001b[0;32m<ipython-input-158-2a2d6f96c69e>\u001b[0m in \u001b[0;36m<module>\u001b[0;34m()\u001b[0m\n\u001b[1;32m      6\u001b[0m \u001b[0;32mfor\u001b[0m \u001b[0mi\u001b[0m \u001b[0;32min\u001b[0m \u001b[0mrange\u001b[0m\u001b[0;34m(\u001b[0m\u001b[0;36m0\u001b[0m\u001b[0;34m,\u001b[0m \u001b[0mlen\u001b[0m\u001b[0;34m(\u001b[0m\u001b[0msub\u001b[0m\u001b[0;34m)\u001b[0m\u001b[0;34m)\u001b[0m\u001b[0;34m:\u001b[0m\u001b[0;34m\u001b[0m\u001b[0m\n\u001b[1;32m      7\u001b[0m     \u001b[0mkey\u001b[0m \u001b[0;34m=\u001b[0m \u001b[0msub\u001b[0m\u001b[0;34m[\u001b[0m\u001b[0mi\u001b[0m\u001b[0;34m]\u001b[0m\u001b[0;34m\u001b[0m\u001b[0m\n\u001b[0;32m----> 8\u001b[0;31m     \u001b[0mG2\u001b[0m\u001b[0;34m[\u001b[0m\u001b[0msub\u001b[0m\u001b[0;34m[\u001b[0m\u001b[0mi\u001b[0m\u001b[0;34m]\u001b[0m\u001b[0;34m]\u001b[0m \u001b[0;34m=\u001b[0m \u001b[0mcalculate_degree_dist\u001b[0m\u001b[0;34m(\u001b[0m\u001b[0mG\u001b[0m\u001b[0;34m[\u001b[0m\u001b[0mkey\u001b[0m\u001b[0;34m]\u001b[0m\u001b[0;34m)\u001b[0m\u001b[0;34m\u001b[0m\u001b[0m\n\u001b[0m",
      "\u001b[0;31mKeyError\u001b[0m: '125525_Adj_40.csv'"
     ]
    }
   ],
   "source": [
    "for i in range(0, len(sub)):\n",
    "    sub[i] = sub[i][:-11]"
   ]
  },
  {
   "cell_type": "code",
   "execution_count": 164,
   "metadata": {},
   "outputs": [],
   "source": [
    "# Degree distributions of all subjects\n",
    "G2 = {}\n",
    "\n",
    "for i in range(0, len(sub)):\n",
    "    key = sub[i]\n",
    "    G2[sub[i]] = calculate_degree_dist(G[key])"
   ]
  },
  {
   "cell_type": "code",
   "execution_count": null,
   "metadata": {},
   "outputs": [],
   "source": [
    "# Average degree distribution over all subjects\n",
    "\n",
    "vals = G2.values()\n",
    "#mean_deg_dist = intersection(vals.)"
   ]
  },
  {
   "cell_type": "code",
   "execution_count": null,
   "metadata": {},
   "outputs": [],
   "source": []
  }
 ],
 "metadata": {
  "kernelspec": {
   "display_name": "Python 3",
   "language": "python",
   "name": "python3"
  },
  "language_info": {
   "codemirror_mode": {
    "name": "ipython",
    "version": 3
   },
   "file_extension": ".py",
   "mimetype": "text/x-python",
   "name": "python",
   "nbconvert_exporter": "python",
   "pygments_lexer": "ipython3",
   "version": "3.6.4"
  }
 },
 "nbformat": 4,
 "nbformat_minor": 2
}
